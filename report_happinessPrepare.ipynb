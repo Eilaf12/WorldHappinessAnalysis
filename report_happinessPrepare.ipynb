{
 "cells": [
  {
   "cell_type": "code",
   "execution_count": 1,
   "outputs": [],
   "source": [
    "import pandas as pd\n",
    "import missingno as msno"
   ],
   "metadata": {
    "collapsed": false
   }
  },
  {
   "cell_type": "code",
   "execution_count": 83,
   "outputs": [],
   "source": [
    "happy19 = pd.read_excel('WHR_2019.xlsx')\n",
    "happy18 = pd.read_excel('WHR_2018.xls')\n",
    "ginidf = pd.read_csv('GINI_DS2_en_csv_v2_4701295.csv')\n",
    "gdpdf = pd.read_csv('GDP_en_csv_v2_4696300.csv')\n",
    "suicidedf = pd.read_csv('SUIC.P5_DS2_en_csv_v2_4523805.csv')"
   ],
   "metadata": {
    "collapsed": false
   }
  },
  {
   "cell_type": "code",
   "execution_count": 40,
   "outputs": [],
   "source": [
    "#choose the data for 2018 and 2019 from gini, gdp, and suicide. Rename the columns for merging later\n",
    "gini18 =  ginidf[['Country Name', 'Country Code', '2018', '2019']]\n",
    "gini18.rename( columns= { 'Country Name': 'Country name', '2018':'Gini2018', '2019':'Gini2019'}, inplace = True)\n",
    "\n",
    "gdp18 =  gdpdf[['Country Name', '2018', '2019']]\n",
    "gdp18.rename( columns= { 'Country Name': 'Country name', '2018':'Gdp2018', '2019':'Gdp2019'}, inplace = True)\n",
    "\n",
    "suicide18 = suicidedf[['Country Name', '2018', '2019']]\n",
    "suicide18.rename( columns= { 'Country Name': 'Country name', '2018':'Suicide2018', '2019':'Suicide2019'}, inplace = True)"
   ],
   "metadata": {
    "collapsed": false
   }
  },
  {
   "cell_type": "code",
   "execution_count": 55,
   "outputs": [],
   "source": [
    "#Merge the gini, gdp, and suicide first, they have the same country names and number of rows because they are from the same source\n",
    "temp = pd.merge(gini18, gdp18, how = 'outer', on = 'Country name')\n",
    "#Merge can only take two arguments\n",
    "worldbank = pd.merge(temp, suicide18, how = 'outer', on = 'Country name')"
   ],
   "metadata": {
    "collapsed": false
   }
  },
  {
   "cell_type": "code",
   "execution_count": 57,
   "outputs": [],
   "source": [
    "#worldbank.to_csv('worldbank_2018_2019_gini_gdp_suicied.csv')"
   ],
   "metadata": {
    "collapsed": false
   }
  },
  {
   "cell_type": "code",
   "execution_count": 85,
   "outputs": [],
   "source": [
    "#Merge the world bank data with the happiness 2019 values\n",
    "#since country names are not the same, it is easier to merge with country code\n",
    "#First, generate the country codes for the happy 2019 data set\n",
    "#pip install country_converter --upgrade\n",
    "import country_converter as coco\n",
    "import pandas as pd\n",
    "cc = coco.CountryConverter()\n",
    "\n",
    "some_countries = happy19['Country name']\n",
    "\n",
    "iso3_codes = cc.pandas_convert(series=some_countries, to='ISO3')\n",
    "#Add the code column to the dataframe\n",
    "happy19.insert(1, 'Country Code', iso3_codes)"
   ],
   "metadata": {
    "collapsed": false
   }
  },
  {
   "cell_type": "code",
   "execution_count": 99,
   "outputs": [],
   "source": [
    "#Merge left since we only want the countries of the happy19 data frame\n",
    "#Probably needs a better name! but...\n",
    "happy2019 = pd.merge(happy19, worldbank.drop(columns='Country name'), how = 'left', on = 'Country Code')\n"
   ],
   "metadata": {
    "collapsed": false
   }
  },
  {
   "cell_type": "code",
   "execution_count": 106,
   "outputs": [],
   "source": [
    "#The final and complet data set is finally ready!!! Move to the Visualizations jupyter Notebook\n",
    "happy2019[['Country name', 'Country Code', 'Regional indicator', 'Ladder score', 'Logged GDP per capita', 'Social support', 'Healthy life expectancy', 'Freedom to make life choices', 'Generosity', 'Perceptions of corruption', 'Gini2018', 'Gini2019', 'Gdp2018', 'Gdp2019', 'Suicide2018', 'Suicide2019']].to_csv('FullAnalysisDataSet.csv')"
   ],
   "metadata": {
    "collapsed": false
   }
  },
  {
   "cell_type": "code",
   "execution_count": 134,
   "outputs": [],
   "source": [
    "#Next step is to make a data set purely for old ladder scores\n",
    "#There's probably a better way to do this!!\n",
    "happy14 =  happy18[happy18['Year'] == 2014][['Country name', 'Life Ladder']]\n",
    "happy14.rename( columns = {'Life Ladder': 'LadderScore2014'}, inplace= True )\n",
    "\n",
    "happy15 =  happy18[happy18['Year'] == 2015][['Country name', 'Life Ladder']]\n",
    "happy15.rename( columns = {'Life Ladder': 'LadderScore2015'}, inplace= True  )\n",
    "\n",
    "happy16 =  happy18[happy18['Year'] == 2016][['Country name', 'Life Ladder']]\n",
    "happy16.rename( columns = {'Life Ladder': 'LadderScore2016'}, inplace= True  )\n",
    "\n",
    "happy17 =  happy18[happy18['Year'] == 2017][['Country name', 'Life Ladder']]\n",
    "happy17.rename( columns = {'Life Ladder': 'LadderScore2017'}, inplace= True  )\n",
    "\n",
    "happy18_temp =  happy18[happy18['Year'] == 2018][['Country name', 'Life Ladder']]\n",
    "happy18_temp.rename( columns = {'Life Ladder': 'LadderScore2018'}, inplace= True )"
   ],
   "metadata": {
    "collapsed": false
   }
  },
  {
   "cell_type": "code",
   "execution_count": 152,
   "outputs": [],
   "source": [
    "temp = pd.merge(happy14, happy15, how = 'outer', on = 'Country name')\n",
    "temp = pd.merge(temp, happy16, how = 'outer', on = 'Country name')\n",
    "temp = pd.merge(temp, happy17, how = 'outer', on = 'Country name')\n",
    "LastDF = pd.merge(temp, happy18_temp, how = 'outer', on = 'Country name')"
   ],
   "metadata": {
    "collapsed": false
   }
  },
  {
   "cell_type": "code",
   "execution_count": 137,
   "outputs": [],
   "source": [
    "LastDF.to_csv('LadderScores_2014-2018.csv')"
   ],
   "metadata": {
    "collapsed": false
   }
  },
  {
   "cell_type": "code",
   "execution_count": 156,
   "outputs": [],
   "source": [
    "#I want to drop all Nulls\n",
    "temp = pd.merge(happy14, happy15, how = 'inner', on = 'Country name')\n",
    "temp = pd.merge(temp, happy16, how = 'inner', on = 'Country name')\n",
    "temp = pd.merge(temp, happy17, how = 'inner', on = 'Country name')\n",
    "LastFullDF = pd.merge(temp, happy18_temp, how = 'inner', on = 'Country name')"
   ],
   "metadata": {
    "collapsed": false
   }
  },
  {
   "cell_type": "code",
   "execution_count": 157,
   "outputs": [],
   "source": [
    "some_countries = LastFullDF['Country name']\n",
    "iso3_codes = cc.pandas_convert(series=some_countries, to='ISO3')\n",
    "#Add the code column to the dataframe\n",
    "LastFullDF.insert(1, 'Country Code', iso3_codes)"
   ],
   "metadata": {
    "collapsed": false
   }
  },
  {
   "cell_type": "code",
   "execution_count": 159,
   "outputs": [],
   "source": [
    "LastFullDF.to_csv('LadderScoresNoNulls_2014-2018.csv')"
   ],
   "metadata": {
    "collapsed": false
   }
  },
  {
   "cell_type": "markdown",
   "source": [
    "All done!!\n",
    "I prepared two data sets:\n",
    "1. 2019 Happiness values from the 2020 report, in addition to worldbank's values of GDP, Gini index,and Suicide per country  => FullAnalysisDataSet.\n",
    "2. A dataset with ladder scores for yeasr 2014 to 2018 => ladders scores dataset.\n",
    "\n",
    "Now let's move to the visualization notebook."
   ],
   "metadata": {
    "collapsed": false
   }
  },
  {
   "cell_type": "code",
   "execution_count": null,
   "outputs": [],
   "source": [],
   "metadata": {
    "collapsed": false
   }
  }
 ],
 "metadata": {
  "kernelspec": {
   "display_name": "Python 3",
   "language": "python",
   "name": "python3"
  },
  "language_info": {
   "codemirror_mode": {
    "name": "ipython",
    "version": 2
   },
   "file_extension": ".py",
   "mimetype": "text/x-python",
   "name": "python",
   "nbconvert_exporter": "python",
   "pygments_lexer": "ipython2",
   "version": "2.7.6"
  }
 },
 "nbformat": 4,
 "nbformat_minor": 0
}
